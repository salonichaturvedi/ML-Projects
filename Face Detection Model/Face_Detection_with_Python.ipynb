{
  "nbformat": 4,
  "nbformat_minor": 0,
  "metadata": {
    "colab": {
      "provenance": [],
      "authorship_tag": "ABX9TyMkes+9CWQISsnHCbbjK83n",
      "include_colab_link": true
    },
    "kernelspec": {
      "name": "python3",
      "display_name": "Python 3"
    },
    "language_info": {
      "name": "python"
    }
  },
  "cells": [
    {
      "cell_type": "markdown",
      "metadata": {
        "id": "view-in-github",
        "colab_type": "text"
      },
      "source": [
        "<a href=\"https://colab.research.google.com/github/salonichaturvedi/ML-Projects/blob/main/Face%20Detection%20Model/Face_Detection_with_Python.ipynb\" target=\"_parent\"><img src=\"https://colab.research.google.com/assets/colab-badge.svg\" alt=\"Open In Colab\"/></a>"
      ]
    },
    {
      "cell_type": "markdown",
      "source": [
        "#<center> **Face Detection with Python**"
      ],
      "metadata": {
        "id": "yD7cL5ScD1M8"
      }
    },
    {
      "cell_type": "markdown",
      "source": [
        "##Face Detection vs Face Recognition"
      ],
      "metadata": {
        "id": "SnAZGaX8D7UF"
      }
    },
    {
      "cell_type": "markdown",
      "source": [
        "Face detection and Face Recognition might look very similar, however, ther are not.\n",
        "\n",
        "Face detection is the process of detecting faces from an image or a video.\n",
        "The program does nothing more than just finding the faces. \n",
        "On the other hand, in the task of Face Recognization, the program finds faces and also can tell which face belongs to whom. It is more informative than just detecting them. There is more programming, or to say, more training in the process.\n",
        "\n",
        "Here, we will be doing facial detection. To do this, we will use Open CV library in Python which is used as the primary tool for the tasks of a computer vision in Python."
      ],
      "metadata": {
        "id": "S-zMymfYEM4T"
      }
    },
    {
      "cell_type": "code",
      "source": [
        "#importing cv2 library\n",
        "import cv2"
      ],
      "metadata": {
        "id": "KXAhJ4jtOU2a"
      },
      "execution_count": null,
      "outputs": []
    },
    {
      "cell_type": "code",
      "source": [
        "#loading the dataset \n",
        "\n",
        "face_cascade = cv2.CascadeClassifier('/content/face_detector.xml')\n"
      ],
      "metadata": {
        "id": "GnN5mhBbOgws"
      },
      "execution_count": null,
      "outputs": []
    },
    {
      "cell_type": "code",
      "source": [
        "# loading the image to be tested by the code\n",
        "\n",
        "img = cv2.imread('/content/IMG_0755.JPG')"
      ],
      "metadata": {
        "id": "64RuLCruPx3R"
      },
      "execution_count": null,
      "outputs": []
    },
    {
      "cell_type": "code",
      "source": [
        "# detecting the face\n",
        "\n",
        "faces = face_cascade.detectMultiScale(img, 1.1, 4)"
      ],
      "metadata": {
        "id": "jymB1NsSQFjO"
      },
      "execution_count": null,
      "outputs": []
    },
    {
      "cell_type": "code",
      "source": [
        "# last step is to draw rectangles around the detected faces\n",
        "\n",
        "for (x,y,w,h) in faces:\n",
        "  cv2.rectangle(img, (x,y), (x+w, y+h), (255,0,0), 2)\n",
        "cv2.imwrite('face_detected.png', img)\n",
        "print('Successfully saved')"
      ],
      "metadata": {
        "colab": {
          "base_uri": "https://localhost:8080/"
        },
        "id": "vmTsxXoqQfus",
        "outputId": "8da19b9e-295f-4fbb-985d-ebcaaa1c7327"
      },
      "execution_count": null,
      "outputs": [
        {
          "output_type": "stream",
          "name": "stdout",
          "text": [
            "Successfully saved\n"
          ]
        }
      ]
    }
  ]
}